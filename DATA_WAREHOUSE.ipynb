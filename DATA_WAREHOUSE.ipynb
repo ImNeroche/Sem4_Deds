{
 "cells": [
  {
   "cell_type": "markdown",
   "metadata": {},
   "source": [
    "Connection + imports"
   ]
  },
  {
   "cell_type": "code",
   "execution_count": 1,
   "metadata": {},
   "outputs": [],
   "source": [
    "import warnings\n",
    "warnings.simplefilter('ignore')\n",
    "\n",
    "import pyodbc\n",
    "import pandas as pd\n",
    "import sqlite3\n",
    "\n",
    "server = 'LAPTOP-8R8HAJSC\\\\SQLEXPRESS01'\n",
    "dwhdb = 'Great Outdoors DWH'\n",
    "sourcedb = 'Great outdoors Source'\n",
    "\n",
    "dwhConnectionString = f'DRIVER={{SQL Server}};SERVER={server};DATABASE={dwhdb};Trusted_Connection=yes;'\n",
    "dwhConnection = pyodbc.connect(dwhConnectionString)\n",
    "\n",
    "sourceConnectionString = f'DRIVER={{SQL Server}};SERVER={server};DATABASE={sourcedb};Trusted_Connection=yes;'\n",
    "sourceConnection = pyodbc.connect(sourceConnectionString)\n",
    "\n",
    "cursor = sourceConnection.cursor()\n"
   ]
  },
  {
   "cell_type": "code",
   "execution_count": 9,
   "metadata": {},
   "outputs": [
    {
     "data": {
      "text/html": [
       "<div>\n",
       "<style scoped>\n",
       "    .dataframe tbody tr th:only-of-type {\n",
       "        vertical-align: middle;\n",
       "    }\n",
       "\n",
       "    .dataframe tbody tr th {\n",
       "        vertical-align: top;\n",
       "    }\n",
       "\n",
       "    .dataframe thead th {\n",
       "        text-align: right;\n",
       "    }\n",
       "</style>\n",
       "<table border=\"1\" class=\"dataframe\">\n",
       "  <thead>\n",
       "    <tr style=\"text-align: right;\">\n",
       "      <th></th>\n",
       "      <th>COURSE_CODE</th>\n",
       "      <th>COURSE_DESCRIPTION</th>\n",
       "      <th>PK</th>\n",
       "    </tr>\n",
       "  </thead>\n",
       "  <tbody>\n",
       "    <tr>\n",
       "      <th>0</th>\n",
       "      <td>1</td>\n",
       "      <td>GO Orientation</td>\n",
       "      <td>0</td>\n",
       "    </tr>\n",
       "    <tr>\n",
       "      <th>1</th>\n",
       "      <td>2</td>\n",
       "      <td>GO Communication</td>\n",
       "      <td>1</td>\n",
       "    </tr>\n",
       "    <tr>\n",
       "      <th>2</th>\n",
       "      <td>3</td>\n",
       "      <td>GO Sales 1</td>\n",
       "      <td>2</td>\n",
       "    </tr>\n",
       "    <tr>\n",
       "      <th>3</th>\n",
       "      <td>4</td>\n",
       "      <td>GO Sales 2</td>\n",
       "      <td>3</td>\n",
       "    </tr>\n",
       "    <tr>\n",
       "      <th>4</th>\n",
       "      <td>5</td>\n",
       "      <td>GO Marketing 1</td>\n",
       "      <td>4</td>\n",
       "    </tr>\n",
       "    <tr>\n",
       "      <th>5</th>\n",
       "      <td>6</td>\n",
       "      <td>GO Marketing 2</td>\n",
       "      <td>5</td>\n",
       "    </tr>\n",
       "    <tr>\n",
       "      <th>6</th>\n",
       "      <td>7</td>\n",
       "      <td>GO Marketing 3</td>\n",
       "      <td>6</td>\n",
       "    </tr>\n",
       "    <tr>\n",
       "      <th>7</th>\n",
       "      <td>8</td>\n",
       "      <td>GO Management 1</td>\n",
       "      <td>7</td>\n",
       "    </tr>\n",
       "    <tr>\n",
       "      <th>8</th>\n",
       "      <td>9</td>\n",
       "      <td>GO Management 2</td>\n",
       "      <td>8</td>\n",
       "    </tr>\n",
       "  </tbody>\n",
       "</table>\n",
       "</div>"
      ],
      "text/plain": [
       "   COURSE_CODE COURSE_DESCRIPTION  PK\n",
       "0            1     GO Orientation   0\n",
       "1            2   GO Communication   1\n",
       "2            3         GO Sales 1   2\n",
       "3            4         GO Sales 2   3\n",
       "4            5     GO Marketing 1   4\n",
       "5            6     GO Marketing 2   5\n",
       "6            7     GO Marketing 3   6\n",
       "7            8    GO Management 1   7\n",
       "8            9    GO Management 2   8"
      ]
     },
     "execution_count": 9,
     "metadata": {},
     "output_type": "execute_result"
    }
   ],
   "source": [
    "df = pd.read_sql_query(\"SELECT * FROM course\", sourceConnection)\n",
    "df['PK'] = df.index\n",
    "df"
   ]
  },
  {
   "cell_type": "code",
   "execution_count": null,
   "metadata": {},
   "outputs": [
    {
     "ename": "ProgrammingError",
     "evalue": "('42S21', \"[42S21] [Microsoft][ODBC SQL Server Driver][SQL Server]Column names in each table must be unique. Column name 'id' in table 'satisfaction' is specified more than once. (2705) (SQLExecDirectW)\")",
     "output_type": "error",
     "traceback": [
      "\u001b[31m---------------------------------------------------------------------------\u001b[39m",
      "\u001b[31mProgrammingError\u001b[39m                          Traceback (most recent call last)",
      "\u001b[36mCell\u001b[39m\u001b[36m \u001b[39m\u001b[32mIn[4]\u001b[39m\u001b[32m, line 4\u001b[39m\n\u001b[32m      1\u001b[39m table_name = \u001b[33m'\u001b[39m\u001b[33msatisfaction\u001b[39m\u001b[33m'\u001b[39m\n\u001b[32m      2\u001b[39m alter_sql = \u001b[33mf\u001b[39m\u001b[33m'\u001b[39m\u001b[33mALTER TABLE \u001b[39m\u001b[38;5;132;01m{\u001b[39;00mtable_name\u001b[38;5;132;01m}\u001b[39;00m\u001b[33m ADD id INT IDENTITY(1,1)\u001b[39m\u001b[33m'\u001b[39m\n\u001b[32m----> \u001b[39m\u001b[32m4\u001b[39m \u001b[43mcursor\u001b[49m\u001b[43m.\u001b[49m\u001b[43mexecute\u001b[49m\u001b[43m(\u001b[49m\u001b[43malter_sql\u001b[49m\u001b[43m)\u001b[49m\n",
      "\u001b[31mProgrammingError\u001b[39m: ('42S21', \"[42S21] [Microsoft][ODBC SQL Server Driver][SQL Server]Column names in each table must be unique. Column name 'id' in table 'satisfaction' is specified more than once. (2705) (SQLExecDirectW)\")"
     ]
    }
   ],
   "source": [
    "table_name = 'satisfaction'\n",
    "alter_sql = f'ALTER TABLE {table_name} ADD id INT IDENTITY(1,1)'\n",
    "\n",
    "cursor.execute(alter_sql)\n",
    "dwhConnection.commit()"
   ]
  },
  {
   "cell_type": "code",
   "execution_count": null,
   "metadata": {},
   "outputs": [],
   "source": []
  }
 ],
 "metadata": {
  "kernelspec": {
   "display_name": "Python 3",
   "language": "python",
   "name": "python3"
  },
  "language_info": {
   "codemirror_mode": {
    "name": "ipython",
    "version": 3
   },
   "file_extension": ".py",
   "mimetype": "text/x-python",
   "name": "python",
   "nbconvert_exporter": "python",
   "pygments_lexer": "ipython3",
   "version": "3.13.2"
  }
 },
 "nbformat": 4,
 "nbformat_minor": 2
}
